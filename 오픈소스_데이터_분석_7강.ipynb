{
 "nbformat": 4,
 "nbformat_minor": 0,
 "metadata": {
  "colab": {
   "provenance": [],
   "include_colab_link": true
  },
  "kernelspec": {
   "name": "python3",
   "display_name": "Python 3 (ipykernel)",
   "language": "python"
  },
  "language_info": {
   "name": "python"
  }
 },
 "cells": [
  {
   "cell_type": "markdown",
   "metadata": {
    "id": "view-in-github",
    "colab_type": "text"
   },
   "source": [
    "<a href=\"https://colab.research.google.com/github/jaehwachung/Data-Analysis-with-Open-Source/blob/main/%EC%98%A4%ED%94%88%EC%86%8C%EC%8A%A4_%EB%8D%B0%EC%9D%B4%ED%84%B0_%EB%B6%84%EC%84%9D_7%EA%B0%95.ipynb\" target=\"_parent\"><img src=\"https://colab.research.google.com/assets/colab-badge.svg\" alt=\"Open In Colab\"/></a>"
   ]
  },
  {
   "cell_type": "markdown",
   "source": [
    "# 오픈소스 기반 데이터 분석 7강 - 데이터 전처리 2"
   ],
   "metadata": {
    "id": "tqffk7GTHWSs"
   }
  },
  {
   "cell_type": "markdown",
   "source": [
    "### 7-1 데이터 결측치 찾기"
   ],
   "metadata": {
    "id": "5DOeakEiHfq1"
   }
  },
  {
   "cell_type": "code",
   "source": [
    "import pandas as pd\n",
    "import numpy as np\n",
    "from pandas.conftest import axis_1\n",
    "\n",
    "from 오픈소스_데이터_분석_3강 import average\n",
    "\n",
    "data = {'이름': ['김철수', '이영희', '박민수', '최지훈', '정소희'],\n",
    "        '나이': [25, 30, np.nan, 22, 35],\n",
    "        '도시': ['서울', None, '인천', '서울', '대전'],\n",
    "        '점수': [90, 85, np.nan, 80, 92]}\n",
    "\n",
    "df = pd.DataFrame(data)\n",
    "\n",
    "## 결측치 여부 확인\n",
    "df.isnull()\n",
    "df.isna()\n",
    "## 열별, 행별 결측치 개수 확인\n",
    "df.isnull().sum() # 열별로 결측치 확인\n",
    "df.isna().sum(axis=1) # 행별로 결측치 확인\n",
    "df\n",
    "## 특정 열, 행 결측치 확인\n",
    "df[df.isnull().any(axis=1)]\n",
    "df[df['나이'].isnull()]\n",
    "## 결측치가 아닌 항목 확인\n",
    "df.notnull()\n",
    "## 결측치 비율\n",
    "df.shape[0] # 행 갯수\n",
    "df.shape[1] # 열 갯수\n",
    "df.isnull().sum().sum() / (df.shape[0] * df.shape[1]) * 100\n"
   ],
   "metadata": {
    "id": "tA9rA_leY5Du",
    "ExecuteTime": {
     "end_time": "2025-10-26T10:00:24.235488Z",
     "start_time": "2025-10-26T10:00:24.227635Z"
    }
   },
   "outputs": [
    {
     "data": {
      "text/plain": [
       "np.float64(15.0)"
      ]
     },
     "execution_count": 21,
     "metadata": {},
     "output_type": "execute_result"
    }
   ],
   "execution_count": 21
  },
  {
   "cell_type": "markdown",
   "source": "### 7-2 데이터 시각화를 이용한 결측치 찾기",
   "metadata": {
    "id": "UiGS85_HHu7U"
   }
  },
  {
   "cell_type": "code",
   "source": [
    "!sudo apt-get install -y fonts-nanum\n",
    "!sudo fc-cache –fv\n",
    "!rm ~/.cache/matplotlib -rf"
   ],
   "metadata": {
    "id": "TlNVxZS9aQFy"
   },
   "execution_count": null,
   "outputs": []
  },
  {
   "cell_type": "code",
   "source": [
    "import matplotlib.pyplot as plt\n",
    "plt.rc('font', family='NanumBarunGothic')"
   ],
   "metadata": {
    "id": "HJpzkrnjaRjA",
    "ExecuteTime": {
     "end_time": "2025-10-26T10:02:00.847731Z",
     "start_time": "2025-10-26T10:02:00.573389Z"
    }
   },
   "outputs": [],
   "execution_count": 24
  },
  {
   "cell_type": "code",
   "source": [
    "import matplotlib.pyplot as plt\n",
    "plt.rc('font', family='NanumBarunGothic')\n",
    "import numpy as np\n",
    "import pandas as pd\n",
    "import seaborn as sns\n",
    "import missingno as msno\n",
    "### 시각화 라이브러리 임포트\n",
    "\n",
    "data = {'이름': ['김철수', '이영희', '박민수', '최지훈', '정소희'],\n",
    "        '나이': [25, 30, np.nan, 22, 35],\n",
    "        '도시': ['서울', None, '인천', '서울', '대전'],\n",
    "        '점수': [90, 85, np.nan, 80, 92]}\n",
    "df = pd.DataFrame(data)\n",
    "\n",
    "### 결측치 히트맵\n",
    "plt.figure(figsize=(8, 6))\n",
    "sns.heatmap(df.isnull(), cbar=False)\n",
    "plt.title(\"결측치 히트맵\")\n",
    "plt.show()\n",
    "\n",
    "### 결측치 매트릭스\n",
    "msno.matrix(df)\n",
    "plt.title(\"결측치 매트릭스\")\n",
    "plt.show()"
   ],
   "metadata": {
    "id": "DWhjSi4wY-P1",
    "ExecuteTime": {
     "end_time": "2025-10-26T10:02:53.114697Z",
     "start_time": "2025-10-26T10:02:52.291803Z"
    }
   },
   "outputs": [
    {
     "name": "stderr",
     "output_type": "stream",
     "text": [
      "findfont: Font family 'NanumBarunGothic' not found.\n",
      "findfont: Font family 'NanumBarunGothic' not found.\n",
      "/Users/hwangsiu/Library/Python/3.9/lib/python/site-packages/seaborn/utils.py:61: UserWarning: Glyph 51060 (\\N{HANGUL SYLLABLE I}) missing from font(s) DejaVu Sans.\n",
      "  fig.canvas.draw()\n",
      "/Users/hwangsiu/Library/Python/3.9/lib/python/site-packages/seaborn/utils.py:61: UserWarning: Glyph 47492 (\\N{HANGUL SYLLABLE REUM}) missing from font(s) DejaVu Sans.\n",
      "  fig.canvas.draw()\n",
      "findfont: Font family 'NanumBarunGothic' not found.\n",
      "/Users/hwangsiu/Library/Python/3.9/lib/python/site-packages/seaborn/utils.py:61: UserWarning: Glyph 45208 (\\N{HANGUL SYLLABLE NA}) missing from font(s) DejaVu Sans.\n",
      "  fig.canvas.draw()\n",
      "findfont: Font family 'NanumBarunGothic' not found.\n",
      "/Users/hwangsiu/Library/Python/3.9/lib/python/site-packages/seaborn/utils.py:61: UserWarning: Glyph 46020 (\\N{HANGUL SYLLABLE DO}) missing from font(s) DejaVu Sans.\n",
      "  fig.canvas.draw()\n",
      "/Users/hwangsiu/Library/Python/3.9/lib/python/site-packages/seaborn/utils.py:61: UserWarning: Glyph 49884 (\\N{HANGUL SYLLABLE SI}) missing from font(s) DejaVu Sans.\n",
      "  fig.canvas.draw()\n",
      "findfont: Font family 'NanumBarunGothic' not found.\n",
      "/Users/hwangsiu/Library/Python/3.9/lib/python/site-packages/seaborn/utils.py:61: UserWarning: Glyph 51216 (\\N{HANGUL SYLLABLE JEOM}) missing from font(s) DejaVu Sans.\n",
      "  fig.canvas.draw()\n",
      "/Users/hwangsiu/Library/Python/3.9/lib/python/site-packages/seaborn/utils.py:61: UserWarning: Glyph 49688 (\\N{HANGUL SYLLABLE SU}) missing from font(s) DejaVu Sans.\n",
      "  fig.canvas.draw()\n",
      "findfont: Font family 'NanumBarunGothic' not found.\n",
      "findfont: Font family 'NanumBarunGothic' not found.\n",
      "findfont: Font family 'NanumBarunGothic' not found.\n",
      "findfont: Font family 'NanumBarunGothic' not found.\n",
      "findfont: Font family 'NanumBarunGothic' not found.\n",
      "findfont: Font family 'NanumBarunGothic' not found.\n",
      "findfont: Font family 'NanumBarunGothic' not found.\n",
      "findfont: Font family 'NanumBarunGothic' not found.\n",
      "findfont: Font family 'NanumBarunGothic' not found.\n",
      "findfont: Font family 'NanumBarunGothic' not found.\n",
      "findfont: Font family 'NanumBarunGothic' not found.\n",
      "findfont: Font family 'NanumBarunGothic' not found.\n",
      "findfont: Font family 'NanumBarunGothic' not found.\n",
      "findfont: Font family 'NanumBarunGothic' not found.\n",
      "findfont: Font family 'NanumBarunGothic' not found.\n",
      "findfont: Font family 'NanumBarunGothic' not found.\n",
      "/Users/hwangsiu/Library/Python/3.9/lib/python/site-packages/IPython/core/pylabtools.py:152: UserWarning: Glyph 44208 (\\N{HANGUL SYLLABLE GYEOL}) missing from font(s) DejaVu Sans.\n",
      "  fig.canvas.print_figure(bytes_io, **kw)\n",
      "/Users/hwangsiu/Library/Python/3.9/lib/python/site-packages/IPython/core/pylabtools.py:152: UserWarning: Glyph 52769 (\\N{HANGUL SYLLABLE CEUG}) missing from font(s) DejaVu Sans.\n",
      "  fig.canvas.print_figure(bytes_io, **kw)\n",
      "/Users/hwangsiu/Library/Python/3.9/lib/python/site-packages/IPython/core/pylabtools.py:152: UserWarning: Glyph 52824 (\\N{HANGUL SYLLABLE CI}) missing from font(s) DejaVu Sans.\n",
      "  fig.canvas.print_figure(bytes_io, **kw)\n",
      "/Users/hwangsiu/Library/Python/3.9/lib/python/site-packages/IPython/core/pylabtools.py:152: UserWarning: Glyph 55176 (\\N{HANGUL SYLLABLE HI}) missing from font(s) DejaVu Sans.\n",
      "  fig.canvas.print_figure(bytes_io, **kw)\n",
      "/Users/hwangsiu/Library/Python/3.9/lib/python/site-packages/IPython/core/pylabtools.py:152: UserWarning: Glyph 53944 (\\N{HANGUL SYLLABLE TEU}) missing from font(s) DejaVu Sans.\n",
      "  fig.canvas.print_figure(bytes_io, **kw)\n",
      "/Users/hwangsiu/Library/Python/3.9/lib/python/site-packages/IPython/core/pylabtools.py:152: UserWarning: Glyph 47605 (\\N{HANGUL SYLLABLE MAEB}) missing from font(s) DejaVu Sans.\n",
      "  fig.canvas.print_figure(bytes_io, **kw)\n",
      "findfont: Font family 'NanumBarunGothic' not found.\n",
      "findfont: Font family 'NanumBarunGothic' not found.\n",
      "findfont: Font family 'NanumBarunGothic' not found.\n",
      "findfont: Font family 'NanumBarunGothic' not found.\n",
      "findfont: Font family 'NanumBarunGothic' not found.\n",
      "findfont: Font family 'NanumBarunGothic' not found.\n",
      "findfont: Font family 'NanumBarunGothic' not found.\n",
      "findfont: Font family 'NanumBarunGothic' not found.\n",
      "findfont: Font family 'NanumBarunGothic' not found.\n",
      "/Users/hwangsiu/Library/Python/3.9/lib/python/site-packages/IPython/core/pylabtools.py:152: UserWarning: Glyph 51060 (\\N{HANGUL SYLLABLE I}) missing from font(s) DejaVu Sans.\n",
      "  fig.canvas.print_figure(bytes_io, **kw)\n",
      "/Users/hwangsiu/Library/Python/3.9/lib/python/site-packages/IPython/core/pylabtools.py:152: UserWarning: Glyph 47492 (\\N{HANGUL SYLLABLE REUM}) missing from font(s) DejaVu Sans.\n",
      "  fig.canvas.print_figure(bytes_io, **kw)\n",
      "findfont: Font family 'NanumBarunGothic' not found.\n",
      "/Users/hwangsiu/Library/Python/3.9/lib/python/site-packages/IPython/core/pylabtools.py:152: UserWarning: Glyph 45208 (\\N{HANGUL SYLLABLE NA}) missing from font(s) DejaVu Sans.\n",
      "  fig.canvas.print_figure(bytes_io, **kw)\n",
      "findfont: Font family 'NanumBarunGothic' not found.\n",
      "/Users/hwangsiu/Library/Python/3.9/lib/python/site-packages/IPython/core/pylabtools.py:152: UserWarning: Glyph 46020 (\\N{HANGUL SYLLABLE DO}) missing from font(s) DejaVu Sans.\n",
      "  fig.canvas.print_figure(bytes_io, **kw)\n",
      "/Users/hwangsiu/Library/Python/3.9/lib/python/site-packages/IPython/core/pylabtools.py:152: UserWarning: Glyph 49884 (\\N{HANGUL SYLLABLE SI}) missing from font(s) DejaVu Sans.\n",
      "  fig.canvas.print_figure(bytes_io, **kw)\n",
      "findfont: Font family 'NanumBarunGothic' not found.\n",
      "/Users/hwangsiu/Library/Python/3.9/lib/python/site-packages/IPython/core/pylabtools.py:152: UserWarning: Glyph 51216 (\\N{HANGUL SYLLABLE JEOM}) missing from font(s) DejaVu Sans.\n",
      "  fig.canvas.print_figure(bytes_io, **kw)\n",
      "/Users/hwangsiu/Library/Python/3.9/lib/python/site-packages/IPython/core/pylabtools.py:152: UserWarning: Glyph 49688 (\\N{HANGUL SYLLABLE SU}) missing from font(s) DejaVu Sans.\n",
      "  fig.canvas.print_figure(bytes_io, **kw)\n",
      "findfont: Font family 'NanumBarunGothic' not found.\n",
      "findfont: Font family 'NanumBarunGothic' not found.\n",
      "findfont: Font family 'NanumBarunGothic' not found.\n",
      "findfont: Font family 'NanumBarunGothic' not found.\n",
      "findfont: Font family 'NanumBarunGothic' not found.\n",
      "findfont: Font family 'NanumBarunGothic' not found.\n",
      "findfont: Font family 'NanumBarunGothic' not found.\n",
      "findfont: Font family 'NanumBarunGothic' not found.\n",
      "findfont: Font family 'NanumBarunGothic' not found.\n",
      "findfont: Font family 'NanumBarunGothic' not found.\n"
     ]
    },
    {
     "data": {
      "text/plain": [
       "<Figure size 800x600 with 1 Axes>"
      ],
      "image/png": "[encoded data removed]"
     },
     "metadata": {},
     "output_type": "display_data",
     "jetTransient": {
      "display_id": null
     }
    },
    {
     "name": "stderr",
     "output_type": "stream",
     "text": [
      "findfont: Font family 'NanumBarunGothic' not found.\n",
      "findfont: Font family 'NanumBarunGothic' not found.\n",
      "findfont: Font family 'NanumBarunGothic' not found.\n",
      "findfont: Font family 'NanumBarunGothic' not found.\n",
      "findfont: Font family 'NanumBarunGothic' not found.\n",
      "/Users/hwangsiu/Library/Python/3.9/lib/python/site-packages/IPython/core/pylabtools.py:152: UserWarning: Glyph 51060 (\\N{HANGUL SYLLABLE I}) missing from font(s) DejaVu Sans.\n",
      "  fig.canvas.print_figure(bytes_io, **kw)\n",
      "/Users/hwangsiu/Library/Python/3.9/lib/python/site-packages/IPython/core/pylabtools.py:152: UserWarning: Glyph 47492 (\\N{HANGUL SYLLABLE REUM}) missing from font(s) DejaVu Sans.\n",
      "  fig.canvas.print_figure(bytes_io, **kw)\n",
      "findfont: Font family 'NanumBarunGothic' not found.\n",
      "/Users/hwangsiu/Library/Python/3.9/lib/python/site-packages/IPython/core/pylabtools.py:152: UserWarning: Glyph 45208 (\\N{HANGUL SYLLABLE NA}) missing from font(s) DejaVu Sans.\n",
      "  fig.canvas.print_figure(bytes_io, **kw)\n",
      "findfont: Font family 'NanumBarunGothic' not found.\n",
      "/Users/hwangsiu/Library/Python/3.9/lib/python/site-packages/IPython/core/pylabtools.py:152: UserWarning: Glyph 46020 (\\N{HANGUL SYLLABLE DO}) missing from font(s) DejaVu Sans.\n",
      "  fig.canvas.print_figure(bytes_io, **kw)\n",
      "/Users/hwangsiu/Library/Python/3.9/lib/python/site-packages/IPython/core/pylabtools.py:152: UserWarning: Glyph 49884 (\\N{HANGUL SYLLABLE SI}) missing from font(s) DejaVu Sans.\n",
      "  fig.canvas.print_figure(bytes_io, **kw)\n",
      "findfont: Font family 'NanumBarunGothic' not found.\n",
      "/Users/hwangsiu/Library/Python/3.9/lib/python/site-packages/IPython/core/pylabtools.py:152: UserWarning: Glyph 51216 (\\N{HANGUL SYLLABLE JEOM}) missing from font(s) DejaVu Sans.\n",
      "  fig.canvas.print_figure(bytes_io, **kw)\n",
      "/Users/hwangsiu/Library/Python/3.9/lib/python/site-packages/IPython/core/pylabtools.py:152: UserWarning: Glyph 49688 (\\N{HANGUL SYLLABLE SU}) missing from font(s) DejaVu Sans.\n",
      "  fig.canvas.print_figure(bytes_io, **kw)\n",
      "findfont: Font family 'NanumBarunGothic' not found.\n",
      "findfont: Font family 'NanumBarunGothic' not found.\n",
      "findfont: Font family 'NanumBarunGothic' not found.\n",
      "findfont: Font family 'NanumBarunGothic' not found.\n",
      "findfont: Font family 'NanumBarunGothic' not found.\n",
      "/Users/hwangsiu/Library/Python/3.9/lib/python/site-packages/IPython/core/pylabtools.py:152: UserWarning: Glyph 44208 (\\N{HANGUL SYLLABLE GYEOL}) missing from font(s) DejaVu Sans.\n",
      "  fig.canvas.print_figure(bytes_io, **kw)\n",
      "/Users/hwangsiu/Library/Python/3.9/lib/python/site-packages/IPython/core/pylabtools.py:152: UserWarning: Glyph 52769 (\\N{HANGUL SYLLABLE CEUG}) missing from font(s) DejaVu Sans.\n",
      "  fig.canvas.print_figure(bytes_io, **kw)\n",
      "/Users/hwangsiu/Library/Python/3.9/lib/python/site-packages/IPython/core/pylabtools.py:152: UserWarning: Glyph 52824 (\\N{HANGUL SYLLABLE CI}) missing from font(s) DejaVu Sans.\n",
      "  fig.canvas.print_figure(bytes_io, **kw)\n",
      "/Users/hwangsiu/Library/Python/3.9/lib/python/site-packages/IPython/core/pylabtools.py:152: UserWarning: Glyph 47588 (\\N{HANGUL SYLLABLE MAE}) missing from font(s) DejaVu Sans.\n",
      "  fig.canvas.print_figure(bytes_io, **kw)\n",
      "/Users/hwangsiu/Library/Python/3.9/lib/python/site-packages/IPython/core/pylabtools.py:152: UserWarning: Glyph 53944 (\\N{HANGUL SYLLABLE TEU}) missing from font(s) DejaVu Sans.\n",
      "  fig.canvas.print_figure(bytes_io, **kw)\n",
      "/Users/hwangsiu/Library/Python/3.9/lib/python/site-packages/IPython/core/pylabtools.py:152: UserWarning: Glyph 47533 (\\N{HANGUL SYLLABLE RIG}) missing from font(s) DejaVu Sans.\n",
      "  fig.canvas.print_figure(bytes_io, **kw)\n",
      "/Users/hwangsiu/Library/Python/3.9/lib/python/site-packages/IPython/core/pylabtools.py:152: UserWarning: Glyph 49828 (\\N{HANGUL SYLLABLE SEU}) missing from font(s) DejaVu Sans.\n",
      "  fig.canvas.print_figure(bytes_io, **kw)\n",
      "findfont: Font family 'NanumBarunGothic' not found.\n",
      "findfont: Font family 'NanumBarunGothic' not found.\n",
      "findfont: Font family 'NanumBarunGothic' not found.\n",
      "findfont: Font family 'NanumBarunGothic' not found.\n",
      "findfont: Font family 'NanumBarunGothic' not found.\n",
      "findfont: Font family 'NanumBarunGothic' not found.\n",
      "findfont: Font family 'NanumBarunGothic' not found.\n",
      "findfont: Font family 'NanumBarunGothic' not found.\n",
      "findfont: Font family 'NanumBarunGothic' not found.\n",
      "findfont: Font family 'NanumBarunGothic' not found.\n",
      "findfont: Font family 'NanumBarunGothic' not found.\n",
      "findfont: Font family 'NanumBarunGothic' not found.\n",
      "findfont: Font family 'NanumBarunGothic' not found.\n",
      "findfont: Font family 'NanumBarunGothic' not found.\n",
      "findfont: Font family 'NanumBarunGothic' not found.\n",
      "findfont: Font family 'NanumBarunGothic' not found.\n",
      "findfont: Font family 'NanumBarunGothic' not found.\n",
      "findfont: Font family 'NanumBarunGothic' not found.\n",
      "findfont: Font family 'NanumBarunGothic' not found.\n",
      "findfont: Font family 'NanumBarunGothic' not found.\n",
      "findfont: Font family 'NanumBarunGothic' not found.\n",
      "findfont: Font family 'NanumBarunGothic' not found.\n"
     ]
    },
    {
     "data": {
      "text/plain": [
       "<Figure size 2500x1000 with 2 Axes>"
      ],
      "image/png": "[encoded data removed]"
     },
     "metadata": {},
     "output_type": "display_data",
     "jetTransient": {
      "display_id": null
     }
    }
   ],
   "execution_count": 26
  },
  {
   "cell_type": "markdown",
   "source": [
    "### 7-3 사분위 범위를 통한 이상치 찾기"
   ],
   "metadata": {
    "id": "S7oz6BSMHxf6"
   }
  },
  {
   "cell_type": "code",
   "source": [
    "import pandas as pd\n",
    "import numpy as np\n",
    "\n",
    "점수_데이터 = [72, 68, 75, 282, 64, 31, 78, 69, 88, 92, 22, 84, 61, -90, 130, 66]\n",
    "학번_데이터 = list(range(1001, 1001 + len(점수_데이터)))\n",
    "\n",
    "df = pd.DataFrame({\n",
    "    '학번': 학번_데이터,\n",
    "    '점수': 점수_데이터\n",
    "})\n",
    "\n",
    "### 사분위 범위 경계값 계산\n",
    "q1 = df['점수'].quantile(0.25)\n",
    "q3 = df['점수'].quantile(0.75)\n",
    "iqr = q3 - q1\n",
    "low = q1 - 1.5 * iqr\n",
    "high = q3 + 1.5 * iqr\n",
    "\n",
    "### IQR 통계량 출력\n",
    "print(q1)\n",
    "print(q3)\n",
    "print(iqr)\n",
    "print(low)\n",
    "print(high)\n"
   ],
   "metadata": {
    "id": "tNKm91q1ZCWQ",
    "ExecuteTime": {
     "end_time": "2025-10-26T10:06:00.792036Z",
     "start_time": "2025-10-26T10:06:00.786203Z"
    }
   },
   "outputs": [
    {
     "name": "stdout",
     "output_type": "stream",
     "text": [
      "63.25\n",
      "85.0\n",
      "21.75\n",
      "30.625\n",
      "117.625\n"
     ]
    }
   ],
   "execution_count": 27
  },
  {
   "cell_type": "markdown",
   "source": [
    "### 7-4 Z-점수를 통한 이상치 찾기"
   ],
   "metadata": {
    "id": "jcC6kWvsHz7s"
   }
  },
  {
   "cell_type": "code",
   "source": [
    "import pandas as pd\n",
    "import numpy as np\n",
    "\n",
    "점수_데이터 = [72, 68, 75, 282, 64, 31, 78, 69, 88, 92, 22, 84, 61, -90, 130, 66]\n",
    "학번_데이터 = list(range(1001, 1001 + len(점수_데이터)))\n",
    "\n",
    "df = pd.DataFrame({\n",
    "    '학번': 학번_데이터,\n",
    "    '점수': 점수_데이터\n",
    "})\n",
    "\n",
    "### Z-점수 계산\n",
    "점수_평균 = df['점수'].mean()\n",
    "점수_표준편차 = df['점수'].std()\n",
    "df['점수_Z'] = (df['점수'] - 점수_평균) / 점수_표준편차\n",
    "df\n",
    "### 임계값 설정 및 이상치 여부 판단\n",
    "임계값 = 2\n",
    "df['이상치여부'] = df['점수_Z'].abs() > 임계값\n",
    "df\n",
    "### 이상치 데이터 출력\n",
    "df[df['이상치여부']]\n",
    "### 이상치 비율 출력\n",
    "df['이상치여부'].mean() * 100"
   ],
   "metadata": {
    "id": "oPs_WaNrZD-4",
    "ExecuteTime": {
     "end_time": "2025-10-26T10:10:19.269628Z",
     "start_time": "2025-10-26T10:10:19.263440Z"
    }
   },
   "outputs": [
    {
     "data": {
      "text/plain": [
       "np.float64(12.5)"
      ]
     },
     "execution_count": 32,
     "metadata": {},
     "output_type": "execute_result"
    }
   ],
   "execution_count": 32
  },
  {
   "cell_type": "markdown",
   "source": [
    "### 7-5 평균값 및 선형보간법을 통한 결측치 처리"
   ],
   "metadata": {
    "id": "m8IQakJSH1bY"
   }
  },
  {
   "cell_type": "code",
   "source": [
    "import pandas as pd\n",
    "import numpy as np\n",
    "\n",
    "file_path = \"Chapter 7/raw_large_shopping_customer.csv\"\n",
    "df = pd.read_csv(file_path)\n",
    "print(df.isnull().sum())\n",
    "\n",
    "df_cleaned = df.dropna(thresh=df.shape[1] - 1) # shape[1]은 컬럼 갯수이니까 현재 5개인데 4개 이상 채워져 있는것만 남겨 놓음\n",
    "print(df_cleaned)\n",
    "### 나이, 소득 평균값 대치 및 결과 출력\n",
    "df_cleaned.loc[:, ['나이', '소득']] = df_cleaned[['나이', '소득']].fillna(df_cleaned[['나이', '소득']].mean())\n",
    "\n",
    "### 지출, 평균구매횟수 선형보간법 적용\n",
    "df_cleaned.loc[:, ['지출', '평균구매횟수']] = df_cleaned[['지출', '평균구매횟수']].interpolate(method='linear')\n",
    "\n",
    "df_cleaned.to_csv(\"Chapter 7/cleaned_large_shopping_customer.csv\", index=False, encoding=\"utf-8-sig\")"
   ],
   "metadata": {
    "id": "4j-um7-UZHbs",
    "ExecuteTime": {
     "end_time": "2025-10-26T10:19:05.656052Z",
     "start_time": "2025-10-26T10:19:05.639570Z"
    }
   },
   "outputs": [
    {
     "name": "stdout",
     "output_type": "stream",
     "text": [
      "ID         0\n",
      "나이        50\n",
      "소득        50\n",
      "지출        50\n",
      "평균구매횟수    50\n",
      "dtype: int64\n",
      "      ID    나이      소득      지출    평균구매횟수\n",
      "0      1  56.0     NaN  6696.0  8.261651\n",
      "1      2  69.0     NaN  6069.0  9.663844\n",
      "2      3  46.0  6070.0  4800.0  9.499688\n",
      "3      4   NaN  6799.0  6769.0  2.269737\n",
      "4      5  60.0  3470.0     NaN  4.657531\n",
      "..   ...   ...     ...     ...       ...\n",
      "495  496  65.0  5579.0  5883.0       NaN\n",
      "496  497  42.0  7971.0     NaN  4.569938\n",
      "497  498  57.0  5031.0  5707.0  3.133251\n",
      "498  499   NaN  6164.0  1811.0  3.112066\n",
      "499  500  18.0  4593.0  3691.0  8.953387\n",
      "\n",
      "[474 rows x 5 columns]\n"
     ]
    }
   ],
   "execution_count": 38
  },
  {
   "cell_type": "markdown",
   "source": [
    "### 7-6 DataFrame 값 변경"
   ],
   "metadata": {
    "id": "EYN-PCmnH2gW"
   }
  },
  {
   "cell_type": "code",
   "source": [
    "import pandas as pd\n",
    "\n",
    "data = {'age': [25, 30, None, 22, 35],\n",
    "        'city': ['Seoul', None, 'Incheon', 'Seoul', 'Daejeon'],\n",
    "        'score': [90, 85, None, 80, 92]}\n",
    "df = pd.DataFrame(data)\n",
    "\n",
    "### replace를 이용한 Seoul -> 서울\n",
    "df['city'] = df['city'].replace('Seoul', '서울')\n",
    "print(df)\n",
    "### replace를 이용한 None -> 미정, Incheon -> 인천\n",
    "df['city'] = df['city'].replace({None: '미정', 'Incheon': '인천'})\n",
    "### map을 이용한 값 변경\n",
    "city_map = {'Seoul': '서울특별시', None: '미정', 'Incheon':'인천광역시', 'Daejeon':'대전광역시'}\n",
    "df['city'] = df['city'].map(city_map)\n",
    "df['age_str'] = df['age'].map(lambda x: f\"{x}살\" if pd.notna(x) else \"알수없음\")\n",
    "\n",
    "### apply 함수를 이용한 값 변경\n",
    "df['age_apply'] = df['age'].apply(lambda x: x*2 if pd.notna(x) else None)\n",
    "print(\"\\n apply 함수를 이용한 값 변경:\\n\", df['age_apply'])\n",
    "### apply 함수를 이용한 행단위 값 변경\n",
    "def age_plus_score(row):\n",
    "    age = row['age'] if pd.notna(row['age']) else 0\n",
    "    score = row['score'] if pd.notna(row['score']) else 0\n",
    "    return age + score\n",
    "df['age_plus_score'] = df.apply(age_plus_score, axis=1)\n",
    "print(\"\\n apply함수를 이용한 행단위 값 변경: \\n\", df['age_plus_score'])\n",
    "\n",
    "### loc 인덱스를 이용한 값 변경\n",
    "df.loc[df['score'] < 90, 'score'] = 90\n",
    "print(\"\\n 점수가 90미만인 사람 90으로 변경\")\n",
    "\n",
    "### where 함수를 이용한 값 변경\n",
    "df['age_where'] = df['age'].where(df['age'] >= 30, other=0)\n",
    "print(\"\\n age가 30이상인 값만 유지하고 나머지를 0으로 변경 \\n\", df['age_where'])\n",
    "df"
   ],
   "metadata": {
    "id": "hV1s9QVNZMhI",
    "ExecuteTime": {
     "end_time": "2025-10-26T10:38:28.661980Z",
     "start_time": "2025-10-26T10:38:28.646022Z"
    }
   },
   "outputs": [
    {
     "name": "stdout",
     "output_type": "stream",
     "text": [
      "    age     city  score\n",
      "0  25.0       서울   90.0\n",
      "1  30.0     None   85.0\n",
      "2   NaN  Incheon    NaN\n",
      "3  22.0       서울   80.0\n",
      "4  35.0  Daejeon   92.0\n",
      "\n",
      " apply 함수를 이용한 값 변경:\n",
      " 0    50.0\n",
      "1    60.0\n",
      "2     NaN\n",
      "3    44.0\n",
      "4    70.0\n",
      "Name: age_apply, dtype: float64\n",
      "\n",
      " apply함수를 이용한 행단위 값 변경: \n",
      " 0    115.0\n",
      "1    115.0\n",
      "2      0.0\n",
      "3    102.0\n",
      "4    127.0\n",
      "Name: age_plus_score, dtype: float64\n",
      "\n",
      " 점수가 90미만인 사람 90으로 변경\n",
      "\n",
      " age가 30이상인 값만 유지하고 나머지를 0으로 변경 \n",
      " 0     0.0\n",
      "1    30.0\n",
      "2     0.0\n",
      "3     0.0\n",
      "4    35.0\n",
      "Name: age_where, dtype: float64\n"
     ]
    },
    {
     "data": {
      "text/plain": [
       "    age   city  score age_str  age_apply  age_plus_score  age_where\n",
       "0  25.0    NaN   90.0   25.0살       50.0           115.0        0.0\n",
       "1  30.0    NaN   90.0   30.0살       60.0           115.0       30.0\n",
       "2   NaN    NaN    NaN    알수없음        NaN             0.0        0.0\n",
       "3  22.0    NaN   90.0   22.0살       44.0           102.0        0.0\n",
       "4  35.0  대전광역시   92.0   35.0살       70.0           127.0       35.0"
      ],
      "text/html": [
       "<div>\n",
       "<style scoped>\n",
       "    .dataframe tbody tr th:only-of-type {\n",
       "        vertical-align: middle;\n",
       "    }\n",
       "\n",
       "    .dataframe tbody tr th {\n",
       "        vertical-align: top;\n",
       "    }\n",
       "\n",
       "    .dataframe thead th {\n",
       "        text-align: right;\n",
       "    }\n",
       "</style>\n",
       "<table border=\"1\" class=\"dataframe\">\n",
       "  <thead>\n",
       "    <tr style=\"text-align: right;\">\n",
       "      <th></th>\n",
       "      <th>age</th>\n",
       "      <th>city</th>\n",
       "      <th>score</th>\n",
       "      <th>age_str</th>\n",
       "      <th>age_apply</th>\n",
       "      <th>age_plus_score</th>\n",
       "      <th>age_where</th>\n",
       "    </tr>\n",
       "  </thead>\n",
       "  <tbody>\n",
       "    <tr>\n",
       "      <th>0</th>\n",
       "      <td>25.0</td>\n",
       "      <td>NaN</td>\n",
       "      <td>90.0</td>\n",
       "      <td>25.0살</td>\n",
       "      <td>50.0</td>\n",
       "      <td>115.0</td>\n",
       "      <td>0.0</td>\n",
       "    </tr>\n",
       "    <tr>\n",
       "      <th>1</th>\n",
       "      <td>30.0</td>\n",
       "      <td>NaN</td>\n",
       "      <td>90.0</td>\n",
       "      <td>30.0살</td>\n",
       "      <td>60.0</td>\n",
       "      <td>115.0</td>\n",
       "      <td>30.0</td>\n",
       "    </tr>\n",
       "    <tr>\n",
       "      <th>2</th>\n",
       "      <td>NaN</td>\n",
       "      <td>NaN</td>\n",
       "      <td>NaN</td>\n",
       "      <td>알수없음</td>\n",
       "      <td>NaN</td>\n",
       "      <td>0.0</td>\n",
       "      <td>0.0</td>\n",
       "    </tr>\n",
       "    <tr>\n",
       "      <th>3</th>\n",
       "      <td>22.0</td>\n",
       "      <td>NaN</td>\n",
       "      <td>90.0</td>\n",
       "      <td>22.0살</td>\n",
       "      <td>44.0</td>\n",
       "      <td>102.0</td>\n",
       "      <td>0.0</td>\n",
       "    </tr>\n",
       "    <tr>\n",
       "      <th>4</th>\n",
       "      <td>35.0</td>\n",
       "      <td>대전광역시</td>\n",
       "      <td>92.0</td>\n",
       "      <td>35.0살</td>\n",
       "      <td>70.0</td>\n",
       "      <td>127.0</td>\n",
       "      <td>35.0</td>\n",
       "    </tr>\n",
       "  </tbody>\n",
       "</table>\n",
       "</div>"
      ]
     },
     "execution_count": 42,
     "metadata": {},
     "output_type": "execute_result"
    }
   ],
   "execution_count": 42
  },
  {
   "cell_type": "markdown",
   "source": [
    "### 7-7 날짜 데이터 타입 다루기\n"
   ],
   "metadata": {
    "id": "z2yAF4AiIAPq"
   }
  },
  {
   "cell_type": "code",
   "source": [
    "date_str = ['2025-07-01', '2025-08-01', '2025-09-01']\n",
    "df_date = pd.DataFrame({'date_str':date_str})\n",
    "\n",
    "### datetime 타입 변환\n",
    "df_date['date'] = pd.to_datetime(df_date['date_str'])\n",
    "df_date.info()\n",
    "### 날짜 데이터 분리\n",
    "print(df_date['date'].dt.year)\n",
    "print(df_date['date'].dt.month)\n",
    "print(df_date['date'].dt.day)\n",
    "print(df_date['date'].dt.day_name())\n",
    "\n",
    "### 날짜 데이터 포멧 변경\n",
    "df_date['date_formatted'] = df_date['date'].dt.strftime('%Y/%m/%d')\n",
    "df_date"
   ],
   "metadata": {
    "id": "xDLixmACZ43a",
    "ExecuteTime": {
     "end_time": "2025-10-26T10:42:45.240455Z",
     "start_time": "2025-10-26T10:42:45.228877Z"
    }
   },
   "outputs": [
    {
     "name": "stdout",
     "output_type": "stream",
     "text": [
      "<class 'pandas.core.frame.DataFrame'>\n",
      "RangeIndex: 3 entries, 0 to 2\n",
      "Data columns (total 2 columns):\n",
      " #   Column    Non-Null Count  Dtype         \n",
      "---  ------    --------------  -----         \n",
      " 0   date_str  3 non-null      object        \n",
      " 1   date      3 non-null      datetime64[ns]\n",
      "dtypes: datetime64[ns](1), object(1)\n",
      "memory usage: 176.0+ bytes\n",
      "0    2025\n",
      "1    2025\n",
      "2    2025\n",
      "Name: date, dtype: int32\n",
      "0    7\n",
      "1    8\n",
      "2    9\n",
      "Name: date, dtype: int32\n",
      "0    1\n",
      "1    1\n",
      "2    1\n",
      "Name: date, dtype: int32\n",
      "0    Tuesday\n",
      "1     Friday\n",
      "2     Monday\n",
      "Name: date, dtype: object\n"
     ]
    },
    {
     "data": {
      "text/plain": [
       "     date_str       date date_formatted\n",
       "0  2025-07-01 2025-07-01     2025/07/01\n",
       "1  2025-08-01 2025-08-01     2025/08/01\n",
       "2  2025-09-01 2025-09-01     2025/09/01"
      ],
      "text/html": [
       "<div>\n",
       "<style scoped>\n",
       "    .dataframe tbody tr th:only-of-type {\n",
       "        vertical-align: middle;\n",
       "    }\n",
       "\n",
       "    .dataframe tbody tr th {\n",
       "        vertical-align: top;\n",
       "    }\n",
       "\n",
       "    .dataframe thead th {\n",
       "        text-align: right;\n",
       "    }\n",
       "</style>\n",
       "<table border=\"1\" class=\"dataframe\">\n",
       "  <thead>\n",
       "    <tr style=\"text-align: right;\">\n",
       "      <th></th>\n",
       "      <th>date_str</th>\n",
       "      <th>date</th>\n",
       "      <th>date_formatted</th>\n",
       "    </tr>\n",
       "  </thead>\n",
       "  <tbody>\n",
       "    <tr>\n",
       "      <th>0</th>\n",
       "      <td>2025-07-01</td>\n",
       "      <td>2025-07-01</td>\n",
       "      <td>2025/07/01</td>\n",
       "    </tr>\n",
       "    <tr>\n",
       "      <th>1</th>\n",
       "      <td>2025-08-01</td>\n",
       "      <td>2025-08-01</td>\n",
       "      <td>2025/08/01</td>\n",
       "    </tr>\n",
       "    <tr>\n",
       "      <th>2</th>\n",
       "      <td>2025-09-01</td>\n",
       "      <td>2025-09-01</td>\n",
       "      <td>2025/09/01</td>\n",
       "    </tr>\n",
       "  </tbody>\n",
       "</table>\n",
       "</div>"
      ]
     },
     "execution_count": 48,
     "metadata": {},
     "output_type": "execute_result"
    }
   ],
   "execution_count": 48
  },
  {
   "cell_type": "markdown",
   "source": [
    "## 7-8 실습 시나리오 - 데이터 정제"
   ],
   "metadata": {
    "id": "JN53NexmIDPv"
   }
  },
  {
   "cell_type": "markdown",
   "source": [
    "### [재수행] 6-5 실습 시나리오 - Kaggle을 활용한 데이터 수집 및 측정"
   ],
   "metadata": {
    "id": "KZC--SWJtKRB"
   }
  },
  {
   "cell_type": "markdown",
   "source": [
    "### 데이터 분포 시각화"
   ],
   "metadata": {
    "id": "bTP3SY9ZINsp"
   }
  },
  {
   "cell_type": "code",
   "source": [
    "plt.figure(figsize=(10, 6))\n",
    "sns.histplot(train['sales'], bins=50)\n",
    "plt.title(\"판매량 분포\")\n",
    "plt.xlabel(\"판매량\")\n",
    "plt.ylabel(\"빈도\")\n",
    "plt.xlim(0, 5000)\n",
    "plt.show()\n",
    "\n",
    "store_sales = train.groupby('store_nbr')['sales'].mean().reset_index()\n",
    "plt.figure(figsize=(12, 6))\n",
    "sns.barplot(x='store_nbr', y='sales', data=store_sales)\n",
    "plt.title(\"매장별 평균 판매량\")\n",
    "plt.xlabel(\"매장 번호\")\n",
    "plt.ylabel(\"평균 판매량\")\n",
    "plt.xticks(rotation=90)\n",
    "plt.show()"
   ],
   "metadata": {
    "id": "5k614LMPaS5I"
   },
   "execution_count": null,
   "outputs": []
  },
  {
   "cell_type": "markdown",
   "source": [
    "### 결측치 처리"
   ],
   "metadata": {
    "id": "c5OAhNibIa4u"
   }
  },
  {
   "cell_type": "code",
   "source": [
    "## 판매, 매장, 거래, 원유, 휴일이벤트 데이터 결측치\n",
    "\n"
   ],
   "metadata": {
    "id": "oHN3jYRSaU7A"
   },
   "execution_count": null,
   "outputs": []
  },
  {
   "cell_type": "code",
   "source": [
    "import missingno as msno\n",
    "\n",
    "msno.matrix(oil)\n",
    "plt.title(\"원유 가격 데이터 결측치 분포\")\n",
    "plt.show()\n",
    "\n",
    "oil['date'] = pd.to_datetime(oil['date'])\n",
    "plt.figure(figsize=(12, 6))\n",
    "plt.plot(oil['date'], oil['dcoilwtico'])\n",
    "plt.title(\"시간에 따른 원유 가격 변화\")\n",
    "plt.xlabel(\"날짜\")\n",
    "plt.ylabel(\"원유 가격\")\n",
    "plt.grid(True)\n",
    "plt.show()"
   ],
   "metadata": {
    "id": "a3QQecfbaXA4"
   },
   "execution_count": null,
   "outputs": []
  },
  {
   "cell_type": "code",
   "source": [
    "oil_cleaned = oil.copy()\n",
    "\n",
    "### 선형 보간법 적용한 원유 가격 데이터\n",
    "\n",
    "\n",
    "plt.figure(figsize=(12, 6))\n",
    "plt.plot(oil_cleaned['date'], oil_cleaned['dcoilwtico'], 'b-')\n",
    "plt.title(\"원유 가격 보간 후 데이터\")\n",
    "plt.xlabel(\"날짜\")\n",
    "plt.ylabel(\"원유 가격\")\n",
    "plt.grid(True)\n",
    "plt.show()"
   ],
   "metadata": {
    "id": "IMZPXS4oaZJI"
   },
   "execution_count": null,
   "outputs": []
  },
  {
   "cell_type": "markdown",
   "source": [
    "### 이상치 처리"
   ],
   "metadata": {
    "id": "2Tq1zN9oIkmz"
   }
  },
  {
   "cell_type": "code",
   "source": [
    "### 제품 계열별 판매 데이터 IQR 계산\n",
    "\n",
    "\n",
    "### 상한값 초과 판매량 이상치 분류\n",
    "\n",
    "\n",
    "print(f\"이상치 개수: {total_outliers:,}건\")\n",
    "print(f\"전체 대비 비율: {total_ratio:.2%}\")\n",
    "\n",
    "plt.figure(figsize=(15,6))\n",
    "sns.stripplot(x='family', y='sales', hue=train_enhanced['is_outlier'],\n",
    "              data=train_enhanced, palette={False:'blue', True:'red'})\n",
    "plt.xticks(rotation=90)\n",
    "plt.yscale('log')\n",
    "plt.title('계열별 판매량 분포 (파랑: 정상, 빨강: 이상)')\n",
    "plt.show()"
   ],
   "metadata": {
    "id": "Ms25XeJ0abZE"
   },
   "execution_count": null,
   "outputs": []
  },
  {
   "cell_type": "code",
   "source": [
    "upper_bounds = family_bounds['upper_bound']\n",
    "\n",
    "### 판매량이 상한값 초과 시, 판매량으로 상한값으로 대체\n",
    "train_cleaned  = train.copy()\n",
    "\n",
    "\n",
    "changed_count = (train['sales'] != train_cleaned ['sales']).sum()\n",
    "print(f\"대체된 데이터 수: {changed_count}건\")"
   ],
   "metadata": {
    "id": "SO563dJzadWw"
   },
   "execution_count": null,
   "outputs": []
  },
  {
   "cell_type": "markdown",
   "source": [
    "### 날짜 데이터 처리"
   ],
   "metadata": {
    "id": "vxifBGTYIq4r"
   }
  },
  {
   "cell_type": "code",
   "source": [
    "### 판매, 거래, 휴일 이벤트, 원율 데이터 내 date 컬럼 데이터 datetime 데이터 타입으로 변경\n",
    "\n",
    "\n",
    "\n",
    "train_cleaned['year'] = train_cleaned['date'].dt.year\n",
    "train_cleaned['month'] = train_cleaned['date'].dt.month\n",
    "train_cleaned['day'] = train_cleaned['date'].dt.day\n",
    "train_cleaned['dayofweek'] = train_cleaned['date'].dt.dayofweek\n",
    "### 주말, 월초, 월말 여부 추철\n",
    "\n",
    "\n",
    "print(\"날짜 특성 추출 결과:\")\n",
    "print(train_cleaned[['date', 'year', 'month', 'day', 'dayofweek', 'weekend', 'is_month_start', 'is_month_end']].head())"
   ],
   "metadata": {
    "id": "PoP0LGutafNG"
   },
   "execution_count": null,
   "outputs": []
  },
  {
   "cell_type": "code",
   "source": [
    "## 요일별 평균 판매량을 계산\n",
    "\n",
    "## 요일 출력값 변경\n",
    "\n",
    "plt.figure(figsize=(10, 6))\n",
    "sns.barplot(x='day_name', y='sales', data=day_sales)\n",
    "plt.title(\"요일별 평균 판매량\")\n",
    "plt.xlabel(\"요일\")\n",
    "plt.ylabel(\"평균 판매량\")\n",
    "plt.show()"
   ],
   "metadata": {
    "id": "YoM6Al8eahG_"
   },
   "execution_count": null,
   "outputs": []
  },
  {
   "cell_type": "markdown",
   "source": [
    "### 데이터 통합"
   ],
   "metadata": {
    "id": "q7ik1uccIuUz"
   }
  },
  {
   "cell_type": "code",
   "source": [
    "## 판매, 거래 데이터 통합\n",
    "\n",
    "\n",
    "## 매장 데이터 통합\n",
    "\n",
    "\n",
    "## 원유 데이터 통합\n",
    "\n",
    "\n",
    "print(\"최종 데이터셋 정보:\")\n",
    "print(f\"행 개수: {train_final.shape[0]}, 열 개수: {train_final.shape[1]}\")\n",
    "print(train_final.columns.tolist())\n",
    "print(train_final.head())"
   ],
   "metadata": {
    "id": "nxAInLIwajY6"
   },
   "execution_count": null,
   "outputs": []
  }
 ]
}
